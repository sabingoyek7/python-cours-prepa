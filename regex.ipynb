{
 "cells": [
  {
   "cell_type": "markdown",
   "metadata": {},
   "source": [
    "<center>\n",
    "    <a href=\"http://www.imsp-benin.com/home/\" ><img src=\"images/logo-imsp-uac.jpg\" style=\"float:left; max-width: 960px; display: inline\" alt=\"IMSP\"/> </a>\n",
    "</center>"
   ]
  },
  {
   "cell_type": "markdown",
   "metadata": {},
   "source": [
    "****\n",
    "\n",
    "# <center> <b> <span style=\"color:orange;\"> Programmation en Python </span> </b></center>\n",
    "\n",
    "### <center> <b> <span style=\"color:green;\">Des applications en Calcul Scientifique -  Statistiques -  Science des Données</span> </b></center>\n",
    "\n",
    "\n",
    "****\n",
    "\n",
    "# <center> <b> <span style=\"color:blue;\">Expressions régulières </span> </b></center>\n",
    "\n",
    "****\n",
    "### <left> <b> <span style=\"color:brown;\">Etudiant : </span> </b></left>[Kimba SABI N'GOYE](https://github.com/sabingoyek7)\n",
    "\n",
    "### <left> <b> <span style=\"color:brown;\">Instructeur : </span> </b></left>[Yaé Ulrich Gaba](https://github.com/gabayae)\n",
    "\n",
    "****\n",
    "<left> <b> <span style=\"color:green;\">Provenance principale du matériel: </span> </b></left> \n",
    " w3school\n",
    "\n",
    "****"
   ]
  },
  {
   "cell_type": "markdown",
   "metadata": {},
   "source": [
    "# Introduction\n",
    "\n",
    "Comment rechercher une chaine de caractères dont on ne connait que le format?\n",
    "Une Expression régulière est une séquence de charactères qui forment un modèle.\n",
    "Les expressions régulières peuvent etre utilisées pour vérifier si une chaine contient un modèle spécifique."
   ]
  },
  {
   "cell_type": "markdown",
   "metadata": {},
   "source": [
    "# 1. Définition de modèles\n",
    "\n",
    "## 1.1 Metacharactères\n",
    "\n",
    "Les metacharatères sont des caratères avec des significations spéciales.\n",
    "\n",
    "<img src=\"./images/metacharateres.png\" />\n",
    "\n",
    "## 1.2 Séquences spéciaux\n",
    "\n",
    "Une séquence spéciale est un \\ suivi d'un des charactères dans la liste ci-dessous, et ayant une signification spéciale :\n",
    "\n",
    "<img src=\"./images/special_sequences.png\" />\n",
    "\n",
    "## 1.3 Ensembles\n",
    "\n",
    "Un ensemble est une séquence de charactères à l'intérieur d'une paire de crochets []:\n",
    "\n",
    "<img src=\"./images/set.png\" />"
   ]
  },
  {
   "cell_type": "markdown",
   "metadata": {},
   "source": [
    "# 2. Quelques fonctions utiles"
   ]
  },
  {
   "cell_type": "code",
   "execution_count": 1,
   "metadata": {},
   "outputs": [],
   "source": [
    "import re"
   ]
  },
  {
   "cell_type": "markdown",
   "metadata": {},
   "source": [
    "## 2.1 findall() \n",
    "\n",
    "La fonction findall() retourne une liste contenant touts les correspondances. La liste contient toutes les correspondance dans l'ordre d'apparition dans la chaine cible. Une liste vide est retournée quand aucune correspondance n'est trouvée.\n"
   ]
  },
  {
   "cell_type": "code",
   "execution_count": 2,
   "metadata": {},
   "outputs": [
    {
     "name": "stdout",
     "output_type": "stream",
     "text": [
      "['ai', 'ai']\n",
      "[]\n"
     ]
    }
   ],
   "source": [
    "ch1 = \"The rain in Spain\"\n",
    "x = re.findall(\"ai\", ch1)\n",
    "print(x)\n",
    "\n",
    "x = re.findall(\"Portugal\", ch1)\n",
    "print(x)"
   ]
  },
  {
   "cell_type": "code",
   "execution_count": null,
   "metadata": {},
   "outputs": [],
   "source": []
  },
  {
   "cell_type": "markdown",
   "metadata": {},
   "source": [
    "## 2.2 search()\n",
    "\n",
    "La fonction search() recherche une correspondance, et retourne l'objet correspondant si une est trouvée.\n",
    "\n",
    "Si il y a plus d'une correspondance , seule la première occurrence de la correspondance est retournée:\n"
   ]
  },
  {
   "cell_type": "code",
   "execution_count": 4,
   "metadata": {},
   "outputs": [
    {
     "name": "stdout",
     "output_type": "stream",
     "text": [
      "The first white-space character is located in position: 3\n",
      "None\n"
     ]
    }
   ],
   "source": [
    "ch1 = \"The rain in Spain\"\n",
    "x = re.search(\"\\s\", ch1)\n",
    "\n",
    "print(\"The first white-space character is located in position:\", x.start())\n",
    "\n",
    "x = re.search(\"Portugal\", ch1)\n",
    "print(x) "
   ]
  },
  {
   "cell_type": "code",
   "execution_count": 8,
   "metadata": {},
   "outputs": [
    {
     "name": "stdout",
     "output_type": "stream",
     "text": [
      "None\n"
     ]
    }
   ],
   "source": [
    "num = \"0022868952898\"\n",
    "x = re.search(\"^(00229)[0-9]{8}\",num)\n",
    "print(x)"
   ]
  },
  {
   "cell_type": "code",
   "execution_count": 10,
   "metadata": {},
   "outputs": [
    {
     "name": "stdout",
     "output_type": "stream",
     "text": [
      "<re.Match object; span=(0, 12), match='454.168.10.2'>\n"
     ]
    }
   ],
   "source": [
    "ip = \"454.168.10.2\"\n",
    "x = re.search(\"^\\d{1,3}.\\d{1,3}.\\d{1,3}.\\d{1,3}$\",ip)\n",
    "print(x)"
   ]
  },
  {
   "cell_type": "markdown",
   "metadata": {},
   "source": [
    "## 2.3 split()\n",
    "\n",
    "La fonction split() retourne une liste contenant la chaine découpée selon la correspondance:\n"
   ]
  },
  {
   "cell_type": "code",
   "execution_count": 7,
   "metadata": {},
   "outputs": [
    {
     "name": "stdout",
     "output_type": "stream",
     "text": [
      "['The', 'rain', 'in', 'Spain']\n"
     ]
    }
   ],
   "source": [
    "str = \"The rain in Spain\"\n",
    "x = re.split(\"\\s\", str)\n",
    "print(x)"
   ]
  },
  {
   "cell_type": "markdown",
   "metadata": {},
   "source": [
    "On peut controler le numbre d'occurrences en spécifiant le paramètre maxsplit:"
   ]
  },
  {
   "cell_type": "code",
   "execution_count": 8,
   "metadata": {},
   "outputs": [
    {
     "name": "stdout",
     "output_type": "stream",
     "text": [
      "['The', 'rain in Spain']\n"
     ]
    }
   ],
   "source": [
    "str = \"The rain in Spain\"\n",
    "x = re.split(\"\\s\", str, 1)\n",
    "print(x)"
   ]
  },
  {
   "cell_type": "markdown",
   "metadata": {},
   "source": [
    "## 2.4 sub()\n",
    "\n",
    "La fonction sub() remplace les correspondances avec le text de votre choix:"
   ]
  },
  {
   "cell_type": "code",
   "execution_count": 9,
   "metadata": {},
   "outputs": [
    {
     "name": "stdout",
     "output_type": "stream",
     "text": [
      "The9rain9in9Spain\n"
     ]
    }
   ],
   "source": [
    "str = \"The rain in Spain\"\n",
    "x = re.sub(\"\\s\", \"9\", str)\n",
    "print(x) "
   ]
  },
  {
   "cell_type": "markdown",
   "metadata": {},
   "source": [
    "On peut controler le numbre de remplacement en spécifiant le paramètre count:"
   ]
  },
  {
   "cell_type": "code",
   "execution_count": 10,
   "metadata": {},
   "outputs": [
    {
     "name": "stdout",
     "output_type": "stream",
     "text": [
      "The9rain9in Spain\n"
     ]
    }
   ],
   "source": [
    "str = \"The rain in Spain\"\n",
    "x = re.sub(\"\\s\", \"9\", str, 2)\n",
    "print(x)"
   ]
  },
  {
   "cell_type": "markdown",
   "metadata": {},
   "source": [
    "# 3. Occurrences object\n",
    "\n",
    "Une correspondance object est un objet contenant des informations sur la recherche et le résultat. \n",
    "\n",
    "Si aucune occurrence n'est trouvé, la valeur None sera retournée, au lieu d'une occurence Object.\n"
   ]
  },
  {
   "cell_type": "code",
   "execution_count": 11,
   "metadata": {},
   "outputs": [
    {
     "name": "stdout",
     "output_type": "stream",
     "text": [
      "<re.Match object; span=(5, 7), match='ai'>\n"
     ]
    }
   ],
   "source": [
    "str = \"The rain in Spain\"\n",
    "x = re.search(\"ai\", str)\n",
    "print(x) #this will print an object "
   ]
  },
  {
   "cell_type": "markdown",
   "metadata": {},
   "source": [
    "Les occurences onject ont des propriétés et des méthodes pour exploiter les informations sur la recherche et le résultat\n",
    "\n",
    "<span style=\"color: red;\">.span()</span> retourne un tuple contenant la position de début et de fin de l'occurrence.<br/>\n",
    "<span style=\"color: red;\">.string()</span> retourne la chaine passé à la fonction<br/>\n",
    "<span style=\"color: red;\">.group()</span> retourne la partie de la chaine où une occurrence est trouvé"
   ]
  },
  {
   "cell_type": "code",
   "execution_count": 12,
   "metadata": {},
   "outputs": [
    {
     "name": "stdout",
     "output_type": "stream",
     "text": [
      "(12, 17)\n"
     ]
    }
   ],
   "source": [
    "str = \"The rain in Spain\"\n",
    "x = re.search(r\"\\bS\\w+\", str)\n",
    "print(x.span())"
   ]
  },
  {
   "cell_type": "code",
   "execution_count": 13,
   "metadata": {},
   "outputs": [
    {
     "name": "stdout",
     "output_type": "stream",
     "text": [
      "The rain in Spain\n"
     ]
    }
   ],
   "source": [
    "str = \"The rain in Spain\"\n",
    "x = re.search(r\"\\bS\\w+\", str)\n",
    "print(x.string) "
   ]
  },
  {
   "cell_type": "code",
   "execution_count": 14,
   "metadata": {},
   "outputs": [
    {
     "name": "stdout",
     "output_type": "stream",
     "text": [
      "Spain\n"
     ]
    }
   ],
   "source": [
    "str = \"The rain in Spain\"\n",
    "x = re.search(r\"\\bS\\w+\", str)\n",
    "print(x.group()) "
   ]
  },
  {
   "cell_type": "markdown",
   "metadata": {},
   "source": [
    "# 3. Quelques exemples"
   ]
  },
  {
   "cell_type": "markdown",
   "metadata": {},
   "source": [
    "## 3.1 Numéro de téléphone"
   ]
  },
  {
   "cell_type": "markdown",
   "metadata": {},
   "source": [
    "## 3.2 Adresse IP"
   ]
  },
  {
   "cell_type": "markdown",
   "metadata": {},
   "source": [
    "## 3.3 Email"
   ]
  },
  {
   "cell_type": "markdown",
   "metadata": {},
   "source": [
    "## 3.4 Vos exemples ? "
   ]
  },
  {
   "cell_type": "markdown",
   "metadata": {},
   "source": [
    "# Conclusion"
   ]
  }
 ],
 "metadata": {
  "kernelspec": {
   "display_name": "Python 3",
   "language": "python",
   "name": "python3"
  },
  "language_info": {
   "codemirror_mode": {
    "name": "ipython",
    "version": 3
   },
   "file_extension": ".py",
   "mimetype": "text/x-python",
   "name": "python",
   "nbconvert_exporter": "python",
   "pygments_lexer": "ipython3",
   "version": "3.7.6"
  }
 },
 "nbformat": 4,
 "nbformat_minor": 2
}
